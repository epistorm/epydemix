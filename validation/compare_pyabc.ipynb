{
 "cells": [
  {
   "cell_type": "markdown",
   "metadata": {},
   "source": [
    "## Example 1\n",
    "\n",
    "https://pyabc.readthedocs.io/en/latest/examples/parameter_inference.html"
   ]
  },
  {
   "cell_type": "code",
   "execution_count": 1,
   "metadata": {},
   "outputs": [],
   "source": [
    "import os\n",
    "import tempfile\n",
    "import matplotlib.pyplot as plt\n",
    "import seaborn as sns\n",
    "import numpy as np\n",
    "import pyabc\n",
    "from scipy.stats import uniform, randint\n",
    "\n",
    "import os\n",
    "import sys\n",
    "notebook_dir = os.getcwd()\n",
    "project_root = os.path.dirname(os.path.dirname(notebook_dir))\n",
    "sys.path.append(project_root)\n",
    "from epydemix.calibration import ABCSampler"
   ]
  },
  {
   "cell_type": "code",
   "execution_count": 2,
   "metadata": {},
   "outputs": [],
   "source": [
    "def model(parameter):\n",
    "    return {\"data\": parameter[\"mu\"] + 0.5 * np.random.randn()}\n",
    "\n",
    "def distance(simulation, data):\n",
    "    return abs(simulation[\"data\"] - data[\"data\"])"
   ]
  },
  {
   "cell_type": "code",
   "execution_count": 3,
   "metadata": {},
   "outputs": [
    {
     "name": "stderr",
     "output_type": "stream",
     "text": [
      "ABC.Sampler INFO: Parallelize sampling on 8 processes.\n",
      "ABC.History INFO: Start <ABCSMC id=17, start_time=2025-04-09 22:20:11>\n"
     ]
    },
    {
     "data": {
      "text/plain": [
       "<pyabc.storage.history.History at 0x7fa8c2924490>"
      ]
     },
     "execution_count": 3,
     "metadata": {},
     "output_type": "execute_result"
    }
   ],
   "source": [
    "## Pyabc calibration\n",
    "prior = pyabc.Distribution(mu=pyabc.RV(\"uniform\", 0, 5))\n",
    "abc = pyabc.ABCSMC(model, prior, distance, population_size=1000)\n",
    "\n",
    "db_path = os.path.join(tempfile.gettempdir(), \"test.db\")\n",
    "observation = 2.5\n",
    "abc.new(\"sqlite:///\" + db_path, {\"data\": observation})\n",
    "\n",
    "#history = abc.run(minimum_epsilon=0.1, max_nr_populations=10)"
   ]
  },
  {
   "cell_type": "code",
   "execution_count": 4,
   "metadata": {},
   "outputs": [
    {
     "name": "stdout",
     "output_type": "stream",
     "text": [
      "Starting ABC-SMC with 1000 particles and 10 generations\n",
      "\n",
      "Generation 1/10 (epsilon: inf)\n",
      "\tAccepted 1000/1000 (acceptance rate: 100.00%)\n",
      "\tElapsed time: 00:00:00\n",
      "\n",
      "Generation 2/10 (epsilon: 1.262998)\n",
      "Starting SMC generation\n"
     ]
    },
    {
     "ename": "KeyboardInterrupt",
     "evalue": "",
     "output_type": "error",
     "traceback": [
      "\u001b[0;31m---------------------------------------------------------------------------\u001b[0m",
      "\u001b[0;31mKeyboardInterrupt\u001b[0m                         Traceback (most recent call last)",
      "Cell \u001b[0;32mIn[4], line 5\u001b[0m\n\u001b[1;32m      2\u001b[0m prior \u001b[38;5;241m=\u001b[39m {\u001b[38;5;124m\"\u001b[39m\u001b[38;5;124mmu\u001b[39m\u001b[38;5;124m\"\u001b[39m: uniform(\u001b[38;5;241m0\u001b[39m, \u001b[38;5;241m5\u001b[39m)}\n\u001b[1;32m      3\u001b[0m abc_epydemix \u001b[38;5;241m=\u001b[39m ABCSampler(model, prior, {}, observation, distance)\n\u001b[0;32m----> 5\u001b[0m results \u001b[38;5;241m=\u001b[39m \u001b[43mabc_epydemix\u001b[49m\u001b[38;5;241;43m.\u001b[39;49m\u001b[43mcalibrate\u001b[49m\u001b[43m(\u001b[49m\u001b[43mstrategy\u001b[49m\u001b[38;5;241;43m=\u001b[39;49m\u001b[38;5;124;43m\"\u001b[39;49m\u001b[38;5;124;43msmc\u001b[39;49m\u001b[38;5;124;43m\"\u001b[39;49m\u001b[43m,\u001b[49m\u001b[43m \u001b[49m\u001b[43mnum_generations\u001b[49m\u001b[38;5;241;43m=\u001b[39;49m\u001b[38;5;241;43m10\u001b[39;49m\u001b[43m,\u001b[49m\u001b[43m \u001b[49m\u001b[43mminimum_epsilon\u001b[49m\u001b[38;5;241;43m=\u001b[39;49m\u001b[38;5;241;43m0.1\u001b[39;49m\u001b[43m,\u001b[49m\u001b[43m \u001b[49m\u001b[43mnum_particles\u001b[49m\u001b[38;5;241;43m=\u001b[39;49m\u001b[38;5;241;43m1000\u001b[39;49m\u001b[43m)\u001b[49m\n",
      "File \u001b[0;32m~/Desktop/epydemix-abc/epydemix/epydemix/calibration/abc.py:114\u001b[0m, in \u001b[0;36mABCSampler.calibrate\u001b[0;34m(self, strategy, **kwargs)\u001b[0m\n\u001b[1;32m    111\u001b[0m \u001b[38;5;28;01mif\u001b[39;00m strategy \u001b[38;5;129;01mnot\u001b[39;00m \u001b[38;5;129;01min\u001b[39;00m strategies:\n\u001b[1;32m    112\u001b[0m     \u001b[38;5;28;01mraise\u001b[39;00m \u001b[38;5;167;01mValueError\u001b[39;00m(\u001b[38;5;124mf\u001b[39m\u001b[38;5;124m\"\u001b[39m\u001b[38;5;124mUnknown strategy: \u001b[39m\u001b[38;5;132;01m{\u001b[39;00mstrategy\u001b[38;5;132;01m}\u001b[39;00m\u001b[38;5;124m. Must be one of \u001b[39m\u001b[38;5;132;01m{\u001b[39;00m\u001b[38;5;28mlist\u001b[39m(strategies\u001b[38;5;241m.\u001b[39mkeys())\u001b[38;5;132;01m}\u001b[39;00m\u001b[38;5;124m\"\u001b[39m)\n\u001b[0;32m--> 114\u001b[0m \u001b[38;5;28mself\u001b[39m\u001b[38;5;241m.\u001b[39mresults \u001b[38;5;241m=\u001b[39m \u001b[43mstrategies\u001b[49m\u001b[43m[\u001b[49m\u001b[43mstrategy\u001b[49m\u001b[43m]\u001b[49m\u001b[43m(\u001b[49m\u001b[38;5;241;43m*\u001b[39;49m\u001b[38;5;241;43m*\u001b[39;49m\u001b[43mkwargs\u001b[49m\u001b[43m)\u001b[49m\n\u001b[1;32m    115\u001b[0m \u001b[38;5;28;01mreturn\u001b[39;00m copy\u001b[38;5;241m.\u001b[39mdeepcopy(\u001b[38;5;28mself\u001b[39m\u001b[38;5;241m.\u001b[39mresults)\n",
      "File \u001b[0;32m~/Desktop/epydemix-abc/epydemix/epydemix/calibration/abc.py:182\u001b[0m, in \u001b[0;36mABCSampler.run_smc\u001b[0;34m(self, num_particles, num_generations, epsilon_schedule, epsilon_quantile_level, minimum_epsilon, max_time, total_simulations_budget, perturbations, verbose)\u001b[0m\n\u001b[1;32m    179\u001b[0m     perturbation\u001b[38;5;241m.\u001b[39mupdate(particles, weights, \u001b[38;5;28mself\u001b[39m\u001b[38;5;241m.\u001b[39mparam_names)\n\u001b[1;32m    181\u001b[0m \u001b[38;5;66;03m# Run generation\u001b[39;00m\n\u001b[0;32m--> 182\u001b[0m new_gen \u001b[38;5;241m=\u001b[39m \u001b[38;5;28;43mself\u001b[39;49m\u001b[38;5;241;43m.\u001b[39;49m\u001b[43m_run_smc_generation\u001b[49m\u001b[43m(\u001b[49m\n\u001b[1;32m    183\u001b[0m \u001b[43m    \u001b[49m\u001b[43mparticles\u001b[49m\u001b[43m,\u001b[49m\u001b[43m \u001b[49m\u001b[43mweights\u001b[49m\u001b[43m,\u001b[49m\u001b[43m \u001b[49m\u001b[43mepsilon\u001b[49m\u001b[43m,\u001b[49m\u001b[43m \u001b[49m\n\u001b[1;32m    184\u001b[0m \u001b[43m    \u001b[49m\u001b[43mnum_particles\u001b[49m\u001b[43m,\u001b[49m\u001b[43m \u001b[49m\u001b[43mperturbations\u001b[49m\n\u001b[1;32m    185\u001b[0m \u001b[43m\u001b[49m\u001b[43m)\u001b[49m\n\u001b[1;32m    186\u001b[0m n_simulations \u001b[38;5;241m+\u001b[39m\u001b[38;5;241m=\u001b[39m new_gen[\u001b[38;5;124m\"\u001b[39m\u001b[38;5;124mn_simulations\u001b[39m\u001b[38;5;124m\"\u001b[39m]\n\u001b[1;32m    188\u001b[0m \u001b[38;5;66;03m# Store results\u001b[39;00m\n",
      "File \u001b[0;32m~/Desktop/epydemix-abc/epydemix/epydemix/calibration/abc.py:633\u001b[0m, in \u001b[0;36mABCSampler._run_smc_generation\u001b[0;34m(self, particles, weights, epsilon, num_particles, perturbations)\u001b[0m\n\u001b[1;32m    627\u001b[0m t0 \u001b[38;5;241m=\u001b[39m time()\n\u001b[1;32m    628\u001b[0m weight_numerator \u001b[38;5;241m=\u001b[39m np\u001b[38;5;241m.\u001b[39mprod([\n\u001b[1;32m    629\u001b[0m     \u001b[38;5;28mself\u001b[39m\u001b[38;5;241m.\u001b[39mpriors[param]\u001b[38;5;241m.\u001b[39mpdf(perturbed_params[i]) \u001b[38;5;28;01mif\u001b[39;00m param \u001b[38;5;129;01min\u001b[39;00m \u001b[38;5;28mself\u001b[39m\u001b[38;5;241m.\u001b[39mcontinuous_params\n\u001b[1;32m    630\u001b[0m     \u001b[38;5;28;01melse\u001b[39;00m \u001b[38;5;28mself\u001b[39m\u001b[38;5;241m.\u001b[39mpriors[param]\u001b[38;5;241m.\u001b[39mpmf(perturbed_params[i])\n\u001b[1;32m    631\u001b[0m     \u001b[38;5;28;01mfor\u001b[39;00m i, param \u001b[38;5;129;01min\u001b[39;00m \u001b[38;5;28menumerate\u001b[39m(\u001b[38;5;28mself\u001b[39m\u001b[38;5;241m.\u001b[39mparam_names)\n\u001b[1;32m    632\u001b[0m ])\n\u001b[0;32m--> 633\u001b[0m weight_denominator \u001b[38;5;241m=\u001b[39m np\u001b[38;5;241m.\u001b[39msum([\n\u001b[1;32m    634\u001b[0m     weights[j] \u001b[38;5;241m*\u001b[39m np\u001b[38;5;241m.\u001b[39mprod([\n\u001b[1;32m    635\u001b[0m         perturbations[\u001b[38;5;28mself\u001b[39m\u001b[38;5;241m.\u001b[39mparam_names[i]]\u001b[38;5;241m.\u001b[39mpdf(\n\u001b[1;32m    636\u001b[0m             perturbed_params[i], particles[j][i]\n\u001b[1;32m    637\u001b[0m         ) \u001b[38;5;28;01mfor\u001b[39;00m i \u001b[38;5;129;01min\u001b[39;00m \u001b[38;5;28mrange\u001b[39m(\u001b[38;5;28mlen\u001b[39m(\u001b[38;5;28mself\u001b[39m\u001b[38;5;241m.\u001b[39mparam_names))\n\u001b[1;32m    638\u001b[0m     ]) \u001b[38;5;28;01mfor\u001b[39;00m j \u001b[38;5;129;01min\u001b[39;00m \u001b[38;5;28mrange\u001b[39m(\u001b[38;5;28mlen\u001b[39m(particles))\n\u001b[1;32m    639\u001b[0m ])\n\u001b[1;32m    640\u001b[0m new_weights\u001b[38;5;241m.\u001b[39mappend(weight_numerator \u001b[38;5;241m/\u001b[39m weight_denominator)\n\u001b[1;32m    641\u001b[0m timings[\u001b[38;5;124m'\u001b[39m\u001b[38;5;124mweight_calc\u001b[39m\u001b[38;5;124m'\u001b[39m] \u001b[38;5;241m+\u001b[39m\u001b[38;5;241m=\u001b[39m time() \u001b[38;5;241m-\u001b[39m t0\n",
      "File \u001b[0;32m~/Desktop/epydemix-abc/epydemix/epydemix/calibration/abc.py:634\u001b[0m, in \u001b[0;36m<listcomp>\u001b[0;34m(.0)\u001b[0m\n\u001b[1;32m    627\u001b[0m t0 \u001b[38;5;241m=\u001b[39m time()\n\u001b[1;32m    628\u001b[0m weight_numerator \u001b[38;5;241m=\u001b[39m np\u001b[38;5;241m.\u001b[39mprod([\n\u001b[1;32m    629\u001b[0m     \u001b[38;5;28mself\u001b[39m\u001b[38;5;241m.\u001b[39mpriors[param]\u001b[38;5;241m.\u001b[39mpdf(perturbed_params[i]) \u001b[38;5;28;01mif\u001b[39;00m param \u001b[38;5;129;01min\u001b[39;00m \u001b[38;5;28mself\u001b[39m\u001b[38;5;241m.\u001b[39mcontinuous_params\n\u001b[1;32m    630\u001b[0m     \u001b[38;5;28;01melse\u001b[39;00m \u001b[38;5;28mself\u001b[39m\u001b[38;5;241m.\u001b[39mpriors[param]\u001b[38;5;241m.\u001b[39mpmf(perturbed_params[i])\n\u001b[1;32m    631\u001b[0m     \u001b[38;5;28;01mfor\u001b[39;00m i, param \u001b[38;5;129;01min\u001b[39;00m \u001b[38;5;28menumerate\u001b[39m(\u001b[38;5;28mself\u001b[39m\u001b[38;5;241m.\u001b[39mparam_names)\n\u001b[1;32m    632\u001b[0m ])\n\u001b[1;32m    633\u001b[0m weight_denominator \u001b[38;5;241m=\u001b[39m np\u001b[38;5;241m.\u001b[39msum([\n\u001b[0;32m--> 634\u001b[0m     weights[j] \u001b[38;5;241m*\u001b[39m np\u001b[38;5;241m.\u001b[39mprod([\n\u001b[1;32m    635\u001b[0m         perturbations[\u001b[38;5;28mself\u001b[39m\u001b[38;5;241m.\u001b[39mparam_names[i]]\u001b[38;5;241m.\u001b[39mpdf(\n\u001b[1;32m    636\u001b[0m             perturbed_params[i], particles[j][i]\n\u001b[1;32m    637\u001b[0m         ) \u001b[38;5;28;01mfor\u001b[39;00m i \u001b[38;5;129;01min\u001b[39;00m \u001b[38;5;28mrange\u001b[39m(\u001b[38;5;28mlen\u001b[39m(\u001b[38;5;28mself\u001b[39m\u001b[38;5;241m.\u001b[39mparam_names))\n\u001b[1;32m    638\u001b[0m     ]) \u001b[38;5;28;01mfor\u001b[39;00m j \u001b[38;5;129;01min\u001b[39;00m \u001b[38;5;28mrange\u001b[39m(\u001b[38;5;28mlen\u001b[39m(particles))\n\u001b[1;32m    639\u001b[0m ])\n\u001b[1;32m    640\u001b[0m new_weights\u001b[38;5;241m.\u001b[39mappend(weight_numerator \u001b[38;5;241m/\u001b[39m weight_denominator)\n\u001b[1;32m    641\u001b[0m timings[\u001b[38;5;124m'\u001b[39m\u001b[38;5;124mweight_calc\u001b[39m\u001b[38;5;124m'\u001b[39m] \u001b[38;5;241m+\u001b[39m\u001b[38;5;241m=\u001b[39m time() \u001b[38;5;241m-\u001b[39m t0\n",
      "File \u001b[0;32m~/Desktop/epydemix-abc/epydemix/epydemix/calibration/abc.py:635\u001b[0m, in \u001b[0;36m<listcomp>\u001b[0;34m(.0)\u001b[0m\n\u001b[1;32m    627\u001b[0m t0 \u001b[38;5;241m=\u001b[39m time()\n\u001b[1;32m    628\u001b[0m weight_numerator \u001b[38;5;241m=\u001b[39m np\u001b[38;5;241m.\u001b[39mprod([\n\u001b[1;32m    629\u001b[0m     \u001b[38;5;28mself\u001b[39m\u001b[38;5;241m.\u001b[39mpriors[param]\u001b[38;5;241m.\u001b[39mpdf(perturbed_params[i]) \u001b[38;5;28;01mif\u001b[39;00m param \u001b[38;5;129;01min\u001b[39;00m \u001b[38;5;28mself\u001b[39m\u001b[38;5;241m.\u001b[39mcontinuous_params\n\u001b[1;32m    630\u001b[0m     \u001b[38;5;28;01melse\u001b[39;00m \u001b[38;5;28mself\u001b[39m\u001b[38;5;241m.\u001b[39mpriors[param]\u001b[38;5;241m.\u001b[39mpmf(perturbed_params[i])\n\u001b[1;32m    631\u001b[0m     \u001b[38;5;28;01mfor\u001b[39;00m i, param \u001b[38;5;129;01min\u001b[39;00m \u001b[38;5;28menumerate\u001b[39m(\u001b[38;5;28mself\u001b[39m\u001b[38;5;241m.\u001b[39mparam_names)\n\u001b[1;32m    632\u001b[0m ])\n\u001b[1;32m    633\u001b[0m weight_denominator \u001b[38;5;241m=\u001b[39m np\u001b[38;5;241m.\u001b[39msum([\n\u001b[1;32m    634\u001b[0m     weights[j] \u001b[38;5;241m*\u001b[39m np\u001b[38;5;241m.\u001b[39mprod([\n\u001b[0;32m--> 635\u001b[0m         \u001b[43mperturbations\u001b[49m\u001b[43m[\u001b[49m\u001b[38;5;28;43mself\u001b[39;49m\u001b[38;5;241;43m.\u001b[39;49m\u001b[43mparam_names\u001b[49m\u001b[43m[\u001b[49m\u001b[43mi\u001b[49m\u001b[43m]\u001b[49m\u001b[43m]\u001b[49m\u001b[38;5;241;43m.\u001b[39;49m\u001b[43mpdf\u001b[49m\u001b[43m(\u001b[49m\n\u001b[1;32m    636\u001b[0m \u001b[43m            \u001b[49m\u001b[43mperturbed_params\u001b[49m\u001b[43m[\u001b[49m\u001b[43mi\u001b[49m\u001b[43m]\u001b[49m\u001b[43m,\u001b[49m\u001b[43m \u001b[49m\u001b[43mparticles\u001b[49m\u001b[43m[\u001b[49m\u001b[43mj\u001b[49m\u001b[43m]\u001b[49m\u001b[43m[\u001b[49m\u001b[43mi\u001b[49m\u001b[43m]\u001b[49m\n\u001b[1;32m    637\u001b[0m \u001b[43m        \u001b[49m\u001b[43m)\u001b[49m \u001b[38;5;28;01mfor\u001b[39;00m i \u001b[38;5;129;01min\u001b[39;00m \u001b[38;5;28mrange\u001b[39m(\u001b[38;5;28mlen\u001b[39m(\u001b[38;5;28mself\u001b[39m\u001b[38;5;241m.\u001b[39mparam_names))\n\u001b[1;32m    638\u001b[0m     ]) \u001b[38;5;28;01mfor\u001b[39;00m j \u001b[38;5;129;01min\u001b[39;00m \u001b[38;5;28mrange\u001b[39m(\u001b[38;5;28mlen\u001b[39m(particles))\n\u001b[1;32m    639\u001b[0m ])\n\u001b[1;32m    640\u001b[0m new_weights\u001b[38;5;241m.\u001b[39mappend(weight_numerator \u001b[38;5;241m/\u001b[39m weight_denominator)\n\u001b[1;32m    641\u001b[0m timings[\u001b[38;5;124m'\u001b[39m\u001b[38;5;124mweight_calc\u001b[39m\u001b[38;5;124m'\u001b[39m] \u001b[38;5;241m+\u001b[39m\u001b[38;5;241m=\u001b[39m time() \u001b[38;5;241m-\u001b[39m t0\n",
      "File \u001b[0;32m~/Desktop/epydemix-abc/epydemix/epydemix/utils/abc_smc_utils.py:40\u001b[0m, in \u001b[0;36mDefaultPerturbationContinuous.pdf\u001b[0;34m(self, x, center)\u001b[0m\n\u001b[1;32m     38\u001b[0m \u001b[38;5;28;01mdef\u001b[39;00m\u001b[38;5;250m \u001b[39m\u001b[38;5;21mpdf\u001b[39m(\u001b[38;5;28mself\u001b[39m, x, center):\n\u001b[1;32m     39\u001b[0m \u001b[38;5;250m    \u001b[39m\u001b[38;5;124;03m\"\"\"Evaluate the PDF of the kernel.\"\"\"\u001b[39;00m\n\u001b[0;32m---> 40\u001b[0m     \u001b[38;5;28;01mreturn\u001b[39;00m \u001b[43mnorm\u001b[49m\u001b[38;5;241;43m.\u001b[39;49m\u001b[43mpdf\u001b[49m\u001b[43m(\u001b[49m\u001b[43mx\u001b[49m\u001b[43m,\u001b[49m\u001b[43m \u001b[49m\u001b[43mcenter\u001b[49m\u001b[43m,\u001b[49m\u001b[43m \u001b[49m\u001b[38;5;28;43mself\u001b[39;49m\u001b[38;5;241;43m.\u001b[39;49m\u001b[43mstd\u001b[49m\u001b[43m)\u001b[49m\n",
      "File \u001b[0;32m/opt/anaconda3/lib/python3.8/site-packages/scipy/stats/_distn_infrastructure.py:2102\u001b[0m, in \u001b[0;36mrv_continuous.pdf\u001b[0;34m(self, x, *args, **kwds)\u001b[0m\n\u001b[1;32m   2100\u001b[0m     goodargs \u001b[38;5;241m=\u001b[39m argsreduce(cond, \u001b[38;5;241m*\u001b[39m((x,)\u001b[38;5;241m+\u001b[39margs\u001b[38;5;241m+\u001b[39m(scale,)))\n\u001b[1;32m   2101\u001b[0m     scale, goodargs \u001b[38;5;241m=\u001b[39m goodargs[\u001b[38;5;241m-\u001b[39m\u001b[38;5;241m1\u001b[39m], goodargs[:\u001b[38;5;241m-\u001b[39m\u001b[38;5;241m1\u001b[39m]\n\u001b[0;32m-> 2102\u001b[0m     place(output, cond, \u001b[38;5;28;43mself\u001b[39;49m\u001b[38;5;241;43m.\u001b[39;49m\u001b[43m_pdf\u001b[49m\u001b[43m(\u001b[49m\u001b[38;5;241;43m*\u001b[39;49m\u001b[43mgoodargs\u001b[49m\u001b[43m)\u001b[49m \u001b[38;5;241m/\u001b[39m scale)\n\u001b[1;32m   2103\u001b[0m \u001b[38;5;28;01mif\u001b[39;00m output\u001b[38;5;241m.\u001b[39mndim \u001b[38;5;241m==\u001b[39m \u001b[38;5;241m0\u001b[39m:\n\u001b[1;32m   2104\u001b[0m     \u001b[38;5;28;01mreturn\u001b[39;00m output[()]\n",
      "File \u001b[0;32m/opt/anaconda3/lib/python3.8/site-packages/scipy/stats/_continuous_distns.py:354\u001b[0m, in \u001b[0;36mnorm_gen._pdf\u001b[0;34m(self, x)\u001b[0m\n\u001b[1;32m    352\u001b[0m \u001b[38;5;28;01mdef\u001b[39;00m\u001b[38;5;250m \u001b[39m\u001b[38;5;21m_pdf\u001b[39m(\u001b[38;5;28mself\u001b[39m, x):\n\u001b[1;32m    353\u001b[0m     \u001b[38;5;66;03m# norm.pdf(x) = exp(-x**2/2)/sqrt(2*pi)\u001b[39;00m\n\u001b[0;32m--> 354\u001b[0m     \u001b[38;5;28;01mreturn\u001b[39;00m \u001b[43m_norm_pdf\u001b[49m\u001b[43m(\u001b[49m\u001b[43mx\u001b[49m\u001b[43m)\u001b[49m\n",
      "File \u001b[0;32m/opt/anaconda3/lib/python3.8/site-packages/scipy/stats/_continuous_distns.py:292\u001b[0m, in \u001b[0;36m_norm_pdf\u001b[0;34m(x)\u001b[0m\n\u001b[1;32m    291\u001b[0m \u001b[38;5;28;01mdef\u001b[39;00m\u001b[38;5;250m \u001b[39m\u001b[38;5;21m_norm_pdf\u001b[39m(x):\n\u001b[0;32m--> 292\u001b[0m     \u001b[38;5;28;01mreturn\u001b[39;00m np\u001b[38;5;241m.\u001b[39mexp(\u001b[38;5;241;43m-\u001b[39;49m\u001b[43mx\u001b[49m\u001b[38;5;241;43m*\u001b[39;49m\u001b[38;5;241;43m*\u001b[39;49m\u001b[38;5;241;43m2\u001b[39;49m\u001b[38;5;241;43m/\u001b[39;49m\u001b[38;5;241;43m2.0\u001b[39;49m) \u001b[38;5;241m/\u001b[39m _norm_pdf_C\n",
      "\u001b[0;31mKeyboardInterrupt\u001b[0m: "
     ]
    }
   ],
   "source": [
    "## Epydemix calibration\n",
    "prior = {\"mu\": uniform(0, 5)}\n",
    "abc_epydemix = ABCSampler(model, prior, {}, observation, distance)\n",
    "\n",
    "results = abc_epydemix.calibrate(strategy=\"smc\", num_generations=10, minimum_epsilon=0.1, num_particles=1000)"
   ]
  },
  {
   "cell_type": "code",
   "execution_count": null,
   "metadata": {},
   "outputs": [],
   "source": [
    "posterior_pyabc = history.get_distribution()[0]\n",
    "posterior_epydemix = results.get_posterior_distribution()\n",
    "\n",
    "sns.kdeplot(posterior_pyabc[\"mu\"], label=\"Pyabc\")\n",
    "sns.kdeplot(posterior_epydemix[\"mu\"], label=\"Epydemix\")\n",
    "plt.legend()\n",
    "plt.show()\n"
   ]
  },
  {
   "cell_type": "code",
   "execution_count": null,
   "metadata": {},
   "outputs": [],
   "source": [
    "weights_pyabc = history.get_distribution()[1]\n",
    "weights_epydemix = results.get_weights()    \n",
    "sns.kdeplot(weights_pyabc, label=\"Pyabc\")\n",
    "sns.kdeplot(weights_epydemix, label=\"Epydemix\")\n",
    "plt.legend()\n",
    "plt.show()"
   ]
  },
  {
   "cell_type": "markdown",
   "metadata": {},
   "source": [
    "## Example 2\n",
    "\n",
    "https://pyabc.readthedocs.io/en/latest/examples/discrete_parameters.html"
   ]
  },
  {
   "cell_type": "code",
   "execution_count": 11,
   "metadata": {},
   "outputs": [],
   "source": [
    "n_data = 100\n",
    "\n",
    "def model(p):\n",
    "    return {\n",
    "        'data': p['p_discrete']\n",
    "        + np.random.choice([-2, 0, 2], p=[0.2, 0.5, 0.3])\n",
    "        + p['p_continuous'] * np.random.normal(size=n_data)\n",
    "    }\n",
    "\n",
    "\n",
    "distance = lambda simulation, data: sum((simulation['data'] - data['data']) ** 2)\n",
    "p_true = {'p_discrete': 2, 'p_continuous': 0.5}\n",
    "obs = model(p_true)"
   ]
  },
  {
   "cell_type": "code",
   "execution_count": null,
   "metadata": {},
   "outputs": [],
   "source": [
    "# domain of possible discrete values\n",
    "discrete_domain = np.arange(7)\n",
    "\n",
    "# priors\n",
    "prior = pyabc.Distribution(\n",
    "    p_discrete=pyabc.RV('rv_discrete', values=(discrete_domain, [1 / 7] * 7)),\n",
    "    p_continuous=pyabc.RV('uniform', 0, 2),\n",
    ")\n",
    "\n",
    "# transition kernels\n",
    "transition = pyabc.AggregatedTransition(\n",
    "    mapping={\n",
    "        'p_discrete': pyabc.DiscreteJumpTransition(\n",
    "            domain=discrete_domain, p_stay=0.7\n",
    "        ),\n",
    "        'p_continuous': pyabc.MultivariateNormalTransition(),\n",
    "    }\n",
    ")\n",
    "\n",
    "abc = pyabc.ABCSMC(\n",
    "    model, prior, distance, transitions=transition, population_size=1000\n",
    ")\n",
    "abc.new(pyabc.create_sqlite_db_id(), obs)\n",
    "history = abc.run(max_nr_populations=5)"
   ]
  },
  {
   "cell_type": "code",
   "execution_count": null,
   "metadata": {},
   "outputs": [],
   "source": [
    "prior = {\"p_discrete\": randint(0, 7), \n",
    "         \"p_continuous\": uniform(0, 2)}\n",
    "abc_sampler = ABCSampler(model, prior, {}, obs['data'], distance)\n",
    "\n",
    "results = abc_sampler.calibrate(strategy=\"smc\", num_generations=6, num_particles=1000)"
   ]
  },
  {
   "cell_type": "code",
   "execution_count": null,
   "metadata": {},
   "outputs": [],
   "source": [
    "posterior_pyabc = history.get_distribution()[0]\n",
    "posterior_epydemix = results.get_posterior_distribution()\n",
    "\n",
    "sns.histplot(posterior_pyabc[\"p_discrete\"], label=\"Pyabc\")\n",
    "sns.histplot(posterior_epydemix[\"p_discrete\"], label=\"Epydemix\")\n",
    "plt.legend()\n",
    "plt.show()\n"
   ]
  },
  {
   "cell_type": "code",
   "execution_count": null,
   "metadata": {},
   "outputs": [],
   "source": [
    "sns.kdeplot(posterior_pyabc[\"p_continuous\"], label=\"Pyabc\")\n",
    "sns.kdeplot(posterior_epydemix[\"p_continuous\"], label=\"Epydemix\")\n",
    "plt.legend()\n",
    "plt.show()"
   ]
  },
  {
   "cell_type": "code",
   "execution_count": null,
   "metadata": {},
   "outputs": [],
   "source": []
  }
 ],
 "metadata": {
  "kernelspec": {
   "display_name": "base",
   "language": "python",
   "name": "python3"
  },
  "language_info": {
   "codemirror_mode": {
    "name": "ipython",
    "version": 3
   },
   "file_extension": ".py",
   "mimetype": "text/x-python",
   "name": "python",
   "nbconvert_exporter": "python",
   "pygments_lexer": "ipython3",
   "version": "3.8.8"
  }
 },
 "nbformat": 4,
 "nbformat_minor": 2
}
