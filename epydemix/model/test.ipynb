{
 "cells": [
  {
   "cell_type": "code",
   "execution_count": 35,
   "id": "87268faf",
   "metadata": {},
   "outputs": [],
   "source": [
    "from numpy.random import multinomial\n",
    "import numpy as np"
   ]
  },
  {
   "cell_type": "code",
   "execution_count": 36,
   "id": "62ed4abc",
   "metadata": {},
   "outputs": [
    {
     "name": "stdout",
     "output_type": "stream",
     "text": [
      "[92 80 62 51 57 68 22 40 15 33]\n"
     ]
    }
   ],
   "source": [
    "N = 10 \n",
    "C = 3\n",
    "\n",
    "current_pop = np.random.randint(0, 100, size=N)\n",
    "prob = np.zeros((C, N), dtype=np.float64)\n",
    "print(current_pop)"
   ]
  },
  {
   "cell_type": "code",
   "execution_count": 37,
   "id": "b9020cd1",
   "metadata": {},
   "outputs": [],
   "source": [
    "prob[1] = 1 - np.sum(prob, axis=0)"
   ]
  },
  {
   "cell_type": "code",
   "execution_count": 38,
   "id": "fc0770af",
   "metadata": {},
   "outputs": [
    {
     "data": {
      "text/plain": [
       "array([ 0, 92,  0])"
      ]
     },
     "execution_count": 38,
     "metadata": {},
     "output_type": "execute_result"
    }
   ],
   "source": [
    "multinomial(current_pop[0], prob.T[0])"
   ]
  },
  {
   "cell_type": "code",
   "execution_count": 50,
   "id": "e3eb4fe0",
   "metadata": {},
   "outputs": [],
   "source": [
    "import numpy as np\n",
    "\n",
    "def chain_multinomial(n, p, stay_idx, rng=None, check_tol=1e-12):\n",
    "    \"\"\"\n",
    "    Competing-risks multinomial with an explicit 'stay' category.\n",
    "\n",
    "    Args:\n",
    "        n (int): Number of individuals in the source compartment.\n",
    "        p (array-like): Length-K vector. For k != stay_idx, p[k] = r_k * dt.\n",
    "        stay_idx (int): Index of the 'stay' category.\n",
    "        rng : np.random.Generator or seed or None. If None, uses default_rng().\n",
    "\n",
    "    Returns:\n",
    "        counts (np.ndarray of int, shape (K,)): Realized counts for each category (including 'stay'), summing to n.\n",
    "    \"\"\"\n",
    "    p = np.asarray(p, dtype=float)\n",
    "    K = p.size # number of categories\n",
    "    if not (0 <= stay_idx < K):\n",
    "        raise IndexError(\"stay_idx out of bounds.\")\n",
    "    if np.any(p < -1e-16):\n",
    "        raise ValueError(\"All entries in p must be non-negative.\")\n",
    "\n",
    "    # Aggregate total hazard H = sum of non-stay components\n",
    "    dest_mask = np.ones(K, dtype=bool)\n",
    "    dest_mask[stay_idx] = False\n",
    "    h = p[dest_mask] \n",
    "    H = float(h.sum())\n",
    "\n",
    "    rng = np.random.default_rng(rng)\n",
    "    counts = np.zeros(K, dtype=int)\n",
    "\n",
    "    if H <= check_tol:\n",
    "        # No hazard -> everyone stays\n",
    "        counts[stay_idx] = n\n",
    "        return counts\n",
    "\n",
    "    # Probability of leaving given total hazard H\n",
    "    p_leave = -np.expm1(-H)\n",
    "    p_leave = min(max(p_leave, 0.0), 1.0)  # clamp for FP safety\n",
    "\n",
    "    # Draw total exits\n",
    "    exits = rng.binomial(n, p_leave)\n",
    "    counts[stay_idx] = n - exits\n",
    "\n",
    "    if exits == 0:\n",
    "        return counts\n",
    "\n",
    "    # Conditional probabilities across destinations q_k = h_k / H\n",
    "    q = h / H\n",
    "    # Allocate exits across destinations\n",
    "    alloc = rng.multinomial(exits, q)\n",
    "\n",
    "    # Write back\n",
    "    counts[np.where(dest_mask)[0]] = alloc\n",
    "    return counts\n"
   ]
  },
  {
   "cell_type": "code",
   "execution_count": 61,
   "id": "d057b04f",
   "metadata": {},
   "outputs": [
    {
     "name": "stdout",
     "output_type": "stream",
     "text": [
      "84.3 µs ± 7.38 µs per loop (mean ± std. dev. of 7 runs, 10,000 loops each)\n"
     ]
    }
   ],
   "source": [
    "\n",
    "%timeit chain_multinomial(n, p, stay_idx)\n",
    "\n"
   ]
  },
  {
   "cell_type": "code",
   "execution_count": 63,
   "id": "b32ac6f5",
   "metadata": {},
   "outputs": [
    {
     "name": "stdout",
     "output_type": "stream",
     "text": [
      "1.43 µs ± 15.3 ns per loop (mean ± std. dev. of 7 runs, 1,000,000 loops each)\n"
     ]
    }
   ],
   "source": [
    "%timeit multinomial(n, p)"
   ]
  },
  {
   "cell_type": "code",
   "execution_count": 48,
   "id": "dcf2397b",
   "metadata": {},
   "outputs": [
    {
     "data": {
      "text/plain": [
       "0.5934303402594009"
      ]
     },
     "execution_count": 48,
     "metadata": {},
     "output_type": "execute_result"
    }
   ],
   "source": [
    "-np.expm1(-0.9)"
   ]
  },
  {
   "cell_type": "code",
   "execution_count": 49,
   "id": "9274fb03",
   "metadata": {},
   "outputs": [
    {
     "data": {
      "text/plain": [
       "0.5934303402594009"
      ]
     },
     "execution_count": 49,
     "metadata": {},
     "output_type": "execute_result"
    }
   ],
   "source": [
    "1 - np.exp(-0.9)"
   ]
  },
  {
   "cell_type": "code",
   "execution_count": null,
   "id": "786f187f",
   "metadata": {},
   "outputs": [],
   "source": []
  }
 ],
 "metadata": {
  "kernelspec": {
   "display_name": "base",
   "language": "python",
   "name": "python3"
  },
  "language_info": {
   "codemirror_mode": {
    "name": "ipython",
    "version": 3
   },
   "file_extension": ".py",
   "mimetype": "text/x-python",
   "name": "python",
   "nbconvert_exporter": "python",
   "pygments_lexer": "ipython3",
   "version": "3.8.8"
  }
 },
 "nbformat": 4,
 "nbformat_minor": 5
}
