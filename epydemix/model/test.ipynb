{
 "cells": [
  {
   "cell_type": "code",
   "execution_count": 64,
   "id": "87268faf",
   "metadata": {},
   "outputs": [],
   "source": [
    "from numpy.random import multinomial\n",
    "import numpy as np"
   ]
  },
  {
   "cell_type": "code",
   "execution_count": 65,
   "id": "62ed4abc",
   "metadata": {},
   "outputs": [
    {
     "name": "stdout",
     "output_type": "stream",
     "text": [
      "[ 7 87 79 85  1 28 50 62  3 20]\n"
     ]
    }
   ],
   "source": [
    "N = 10 \n",
    "C = 3\n",
    "\n",
    "current_pop = np.random.randint(0, 100, size=N)\n",
    "prob = np.zeros((C, N), dtype=np.float64)\n",
    "print(current_pop)"
   ]
  },
  {
   "cell_type": "code",
   "execution_count": 66,
   "id": "b9020cd1",
   "metadata": {},
   "outputs": [],
   "source": [
    "prob[1] = 1 - np.sum(prob, axis=0)"
   ]
  },
  {
   "cell_type": "code",
   "execution_count": 67,
   "id": "fc0770af",
   "metadata": {},
   "outputs": [
    {
     "data": {
      "text/plain": [
       "array([0, 7, 0])"
      ]
     },
     "execution_count": 67,
     "metadata": {},
     "output_type": "execute_result"
    }
   ],
   "source": [
    "multinomial(current_pop[0], prob.T[0])"
   ]
  },
  {
   "cell_type": "code",
   "execution_count": 68,
   "id": "e3eb4fe0",
   "metadata": {},
   "outputs": [],
   "source": [
    "def chain_multinomial(n, p, stay_idx, rng=None, check_tol=1e-12):\n",
    "    \"\"\"\n",
    "    Competing-risks multinomial with an explicit 'stay' category. \n",
    "    The function assumes that the probability of staying is 0 (i.e., p does not include the probability of staying).\n",
    "\n",
    "    Args:\n",
    "        n (int): Number of individuals in the source compartment.\n",
    "        p (array-like): Length-K vector. For k != stay_idx, p[k] = r_k * dt.\n",
    "        stay_idx (int): Index of the 'stay' category.\n",
    "        rng : np.random.Generator or seed or None. If None, uses default_rng().\n",
    "\n",
    "    Returns:\n",
    "        counts (np.ndarray of int, shape (K,)): Realized counts for each category (including 'stay'), summing to n.\n",
    "    \"\"\"\n",
    "    p = np.asarray(p, dtype=float)\n",
    "    K = p.size\n",
    "    if not (0 <= stay_idx < K):\n",
    "        raise IndexError(\"stay_idx out of bounds.\")\n",
    "    if np.any(p < -1e-16):\n",
    "        raise ValueError(\"All entries in p must be non-negative.\")\n",
    "\n",
    "    # Total hazard H = sum over all entries (stay entry should be 0)\n",
    "    H = float(p.sum())\n",
    "\n",
    "    rng = np.random.default_rng(rng)\n",
    "    counts = np.zeros(K, dtype=int)\n",
    "\n",
    "    if H <= check_tol:\n",
    "        # No hazard -> everyone stays\n",
    "        counts[stay_idx] = n\n",
    "        return counts\n",
    "\n",
    "    # Probability of leaving given total hazard H\n",
    "    p_leave = -np.expm1(-H)         \n",
    "    p_leave = min(max(p_leave, 0.0), 1.0)  # clamp for floating-point safety\n",
    "\n",
    "    # Draw total exits\n",
    "    exits = rng.binomial(n, p_leave)\n",
    "    stays = n - exits\n",
    "\n",
    "    if exits == 0:\n",
    "        counts[stay_idx] = n\n",
    "        return counts\n",
    "\n",
    "    # Split exits proportionally to hazards (stay has zero weight, so gets 0)\n",
    "    q = p / H\n",
    "    alloc = rng.multinomial(exits, q)  # alloc.sum() == exits, alloc[stay_idx] == 0\n",
    "\n",
    "    # Fill output: allocated exits + residual stays\n",
    "    counts[:] = alloc\n",
    "    counts[stay_idx] = stays  # overwrite (alloc[stay_idx] is 0 anyway)\n",
    "\n",
    "    return counts\n"
   ]
  },
  {
   "cell_type": "code",
   "execution_count": 69,
   "id": "40e45dac",
   "metadata": {},
   "outputs": [],
   "source": [
    "n = 100 \n",
    "p = [0.1, 0., 0.2]\n",
    "stay_idx = 1\n"
   ]
  },
  {
   "cell_type": "code",
   "execution_count": null,
   "id": "d057b04f",
   "metadata": {},
   "outputs": [
    {
     "name": "stdout",
     "output_type": "stream",
     "text": [
      "71.1 µs ± 6.72 µs per loop (mean ± std. dev. of 7 runs, 10,000 loops each)\n"
     ]
    }
   ],
   "source": [
    "%timeit chain_multinomial(n, p, stay_idx)"
   ]
  },
  {
   "cell_type": "code",
   "execution_count": 71,
   "id": "b32ac6f5",
   "metadata": {},
   "outputs": [
    {
     "name": "stdout",
     "output_type": "stream",
     "text": [
      "1.48 µs ± 116 ns per loop (mean ± std. dev. of 7 runs, 1,000,000 loops each)\n"
     ]
    }
   ],
   "source": [
    "%timeit multinomial(n, p)"
   ]
  },
  {
   "cell_type": "code",
   "execution_count": 79,
   "id": "786f187f",
   "metadata": {},
   "outputs": [
    {
     "data": {
      "text/plain": [
       "array([ 8, 72, 20])"
      ]
     },
     "execution_count": 79,
     "metadata": {},
     "output_type": "execute_result"
    }
   ],
   "source": [
    "chain_multinomial(n, p, stay_idx)"
   ]
  },
  {
   "cell_type": "code",
   "execution_count": 77,
   "id": "1dcaf62e",
   "metadata": {},
   "outputs": [
    {
     "data": {
      "text/plain": [
       "[0.1, 0.0, 0.2]"
      ]
     },
     "execution_count": 77,
     "metadata": {},
     "output_type": "execute_result"
    }
   ],
   "source": [
    "p"
   ]
  },
  {
   "cell_type": "code",
   "execution_count": null,
   "id": "61dab30f",
   "metadata": {},
   "outputs": [],
   "source": []
  }
 ],
 "metadata": {
  "kernelspec": {
   "display_name": "base",
   "language": "python",
   "name": "python3"
  },
  "language_info": {
   "codemirror_mode": {
    "name": "ipython",
    "version": 3
   },
   "file_extension": ".py",
   "mimetype": "text/x-python",
   "name": "python",
   "nbconvert_exporter": "python",
   "pygments_lexer": "ipython3",
   "version": "3.8.8"
  }
 },
 "nbformat": 4,
 "nbformat_minor": 5
}
