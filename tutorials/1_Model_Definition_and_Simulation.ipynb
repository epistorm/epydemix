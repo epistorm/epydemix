{
 "cells": [
  {
   "cell_type": "markdown",
   "id": "7545a088",
   "metadata": {},
   "source": [
    "# An Introduction to Model Definition and Simulation using Epydemix\n",
    "\n",
    "Welcome to this tutorial on **epydemix**, a Python library designed for epidemiological modeling and simulations. In this tutorial, we will guide you through the process of defining a simple epidemiological model and running simulations to explore how diseases spread over time.\n",
    "\n",
    "We will start by explaining the key concepts in epidemiological modeling, and then move on to hands-on examples using **epydemix**.\n",
    "\n",
    "Let’s begin by setting up our environment!\n"
   ]
  },
  {
   "cell_type": "markdown",
   "id": "da39aa22",
   "metadata": {},
   "source": [
    "\n",
    "## Installation\n",
    "\n",
    "First, if you haven’t already installed **epydemix**, you can do so by running the following command (you may need to restart the kernel after installation):\n"
   ]
  },
  {
   "cell_type": "code",
   "execution_count": null,
   "id": "7bff2790",
   "metadata": {},
   "outputs": [],
   "source": [
    "!pip install epydemix"
   ]
  },
  {
   "cell_type": "markdown",
   "id": "c82e92ed",
   "metadata": {},
   "source": [
    "Now, let’s import the necessary modules.\n"
   ]
  },
  {
   "cell_type": "code",
   "execution_count": null,
   "id": "87a4b8ba",
   "metadata": {},
   "outputs": [],
   "source": [
    "# Import the necessary components\n",
    "from epydemix import EpiModel\n",
    "from epydemix.visualization import plot_quantiles, plot_trajectories"
   ]
  },
  {
   "cell_type": "markdown",
   "id": "738769e9",
   "metadata": {},
   "source": [
    "## Understanding the Basics of Epidemiological Modeling\n",
    "\n",
    "Before diving into code, let’s quickly go over the basic structure of an epidemiological compartmental model.\n",
    "\n",
    "Compartmental models are used to describe how diseases spread through populations. These models divide the population into compartments, each representing a specific state in the progression of the disease. One of the simplest models is the **SIR model**, where:\n",
    "\n",
    "- **S** represents the susceptible individuals (those who can get infected).\n",
    "- **I** represents the infected individuals (those who are currently carrying the disease).\n",
    "- **R** represents the recovered individuals (those who have recovered and are immune).\n",
    "\n",
    "In compartmental models, individuals move between compartments through transitions, which are of two main types:\n",
    "\n",
    "- **Mediated Transitions**: These transitions occur due to interactions between individuals in different compartments. In the case of the SIR model, the transition from **S** (susceptible) to **I** (infected) is mediated by the presence of infected individuals. The rate at which susceptibles become infected depends on both the number of infected individuals and the transmission rate.\n",
    "  \n",
    "  For example, the transition from **S** to **I** happens at a rate proportional to:\n",
    "\n",
    "  $$\\textit{Transition rate} \\sim \\beta \\times S \\times I $$\n",
    "  \n",
    "  where:\n",
    "  - $\\beta$ is the transmission rate,\n",
    "  - $S$ is the number of susceptible individuals,\n",
    "  - $I$ is the number of infected individuals.\n",
    "\n",
    "- **Spontaneous Transitions**: These transitions happen independently of interactions with other compartments. For instance, in the SIR model, the transition from **I** (infected) to **R** (recovered) is spontaneous because infected individuals recover based on a fixed recovery rate without needing to interact with any other compartment.\n",
    "  \n",
    "  This transition from **I** to **R** occurs at a rate proportional to:\n",
    "  \n",
    "  $$\\textit{Transition rate} \\sim \\gamma \\times I $$\n",
    "\n",
    "  where:\n",
    "  - $\\gamma$ is the recovery rate,\n",
    "  - $I$ is the number of infected individuals.\n",
    "\n",
    "The dynamics of the disease over time are shaped by these transitions, as individuals move between susceptible, infected, and recovered states.\n",
    "\n",
    "Now, let's see how we can define a simple SIR model using **epydemix**.\n"
   ]
  },
  {
   "cell_type": "markdown",
   "id": "ae2e447a",
   "metadata": {},
   "source": [
    "\n",
    "## Defining a Basic Model\n",
    "\n",
    "In **epydemix**, defining a model is as simple as specifying compartments, transitions and parameters that govern the dynamics of disease transmission. Let’s start with a **Basic SIR Model**:\n"
   ]
  },
  {
   "cell_type": "code",
   "execution_count": 2,
   "id": "041132d7",
   "metadata": {},
   "outputs": [
    {
     "name": "stdout",
     "output_type": "stream",
     "text": [
      "EpiModel(name='SIR Model')\n",
      "Compartments: 3\n",
      "  S, I, R\n",
      "Transitions: 2\n",
      "  Transitions between compartments:\n",
      "    S -> I, params: (0.3, 'I') (kind: mediated)\n",
      "    I -> R, params: 0.1 (kind: spontaneous)\n",
      "Parameters: 0\n",
      "  No parameters defined\n",
      "Population: epydemix_population\n",
      "  Population size: 100000 individuals\n",
      "  Demographic groups: 1\n",
      "    0\n",
      "\n"
     ]
    }
   ],
   "source": [
    "# Defining a basic SIR model\n",
    "sir_model = EpiModel(\n",
    "    name='SIR Model',\n",
    "    compartments=['S', 'I', 'R'],  # Susceptible, Infected, Recovered\n",
    ")\n",
    "\n",
    "# Defining the transitions\n",
    "sir_model.add_transition(source='S', target='I', params=(0.3, \"I\"), kind='mediated')\n",
    "sir_model.add_transition(source='I', target='R', params=0.1, kind='spontaneous')\n",
    "\n",
    "print(sir_model)"
   ]
  },
  {
   "cell_type": "markdown",
   "id": "2ffa60d2",
   "metadata": {},
   "source": [
    "We note how, for mediated transitions, the argument `params` can be a tuple of a float (parameter value) or a string (for a parameter name) and a string (the name of the compartment that mediates the transition). In the case of spontaneous transitions, the argument `params` can be a float (parameter value) or a string (for a parameter name). In the case of more complex transitions, the argument `params` can be anything that need to be used to compute the transition rate (as explained in more detail in Tutorial 6)."
   ]
  },
  {
   "cell_type": "markdown",
   "id": "10ebbc4a",
   "metadata": {},
   "source": [
    "Alternatively, **epydemix** support predefined basic epidemic models such as SIR, SEIR, and SIS that can be easily imported as:\n",
    "\n",
    "```python\n",
    "from epydemix import load_predefined_model\n",
    "\n",
    "# import predefined SIR\n",
    "sir_model = load_predefined_model(\"SIR\", transmission_rate=0.3, recovery_rate=0.1)\n",
    "\n",
    "# import predefined SEIR\n",
    "seir_model = load_predefined_model(\"SEIR\", transmission_rate=0.3, recovery_rate=0.1, incubation_rate=0.2)\n",
    "\n",
    "# import predefined SIS\n",
    "sis_model = load_predefined_model(\"SIS\", transmission_rate=0.3, recovery_rate=0.1)\n",
    "```"
   ]
  },
  {
   "cell_type": "markdown",
   "id": "bac311fc",
   "metadata": {},
   "source": [
    "## Running Simulations\n",
    "\n",
    "Now that we’ve defined our model, it’s time to run simulations. **epydemix** implements stochastic simulations through chain binomial processes. \n",
    "\n",
    "A simulation in **epydemix** requires:\n",
    "- **Initial conditions**: This describes how many individuals start in each compartment at the beginning of the simulation. If not provided, **epydemix** will initialize a given percentage (default to 0.05%) of individuals in compartments that mediate transitions (e.g., the infected) and the rest in the compartments which are source of transitions with a mediating agent (e.g., the susceptibles)\n",
    "- **Initial and final date**: The dates for which we want to simulate the epidemic.\n",
    "\n",
    "Additional arguments can be passed to the `run_simulations` method to customize the simulation, such as the simulation steps (default to daily) and the number of simulation to run (default to 100).\n",
    "\n",
    "Let's run 100 stochastic simulations from January 1st 2024 to April 10th 2024:"
   ]
  },
  {
   "cell_type": "code",
   "execution_count": 3,
   "id": "039e8781",
   "metadata": {},
   "outputs": [],
   "source": [
    "sir_results = sir_model.run_simulations(\n",
    "    start_date=\"2024-01-01\",\n",
    "    end_date=\"2024-04-10\")"
   ]
  },
  {
   "cell_type": "markdown",
   "id": "2bda7ac8",
   "metadata": {},
   "source": [
    "\n",
    "## Visualizing the Results\n",
    "\n",
    "**Epydemix** comes with built-in tools that facilitate the visualization of the simulated epidemic evolution. \n",
    "\n",
    "The results of a simulation are stored in a `SimulationResults` object, which can be used to plot the evolution of the compartments and transitions over time. The `get_quantiles_compartments` method returns a pandas DataFrame with the quantiles of the number of individuals in each compartment over time. The name of the columns are the compartments names and the demographic groups, in the following format: `{compartment_name}_{demographic_group}`. \n",
    "For example, the column `I_total` contains the quantiles of the number of infected (\"I\") individuals across all demographic groups (\"total\"), while the column `I_0-4` contains the quantiles of the number of infected individuals in the age group 0-4 over time.\n",
    "\n",
    "Let’s create a plot to visualize the evolution of the compartments over time.\n"
   ]
  },
  {
   "cell_type": "code",
   "execution_count": null,
   "id": "e4b6cedd",
   "metadata": {},
   "outputs": [],
   "source": [
    "df_quantiles_comps = sir_results.get_quantiles_compartments()\n",
    "ax = plot_quantiles(df_quantiles_comps, columns=[\"I_total\", \"S_total\", \"R_total\"], title='SIR Model Simulation (Compartments, Quantiles)')"
   ]
  },
  {
   "cell_type": "markdown",
   "id": "9f6bfa16",
   "metadata": {},
   "source": [
    "Similarly, we can plot the number of individuals transitioning between compartments. In this case, we will call the method `get_quantiles_transitions` to get the quantiles of the number of individuals transitioning between compartments over time. The name of the columns are the transitions names and the demographic groups, in the following format: `{source_compartment_name}_to_{target_compartment_name}_{demographic_group}`. \n",
    "For example, the column `S_to_I_total` contains the quantiles of the number of individuals transitioning from susceptible (\"S\") to infected (\"I\") individuals across all demographic groups (\"total\").\n",
    "\n",
    "Let's create a plot to visualize the evolution of the transitions over time."
   ]
  },
  {
   "cell_type": "code",
   "execution_count": null,
   "id": "408d50c2",
   "metadata": {},
   "outputs": [],
   "source": [
    "df_quantiles_tr = sir_results.get_quantiles_transitions()\n",
    "ax = plot_quantiles(df_quantiles_tr, columns=[\"S_to_I_total\", \"I_to_R_total\"], title='SIR Model Simulation (Transitions, Quantiles)')"
   ]
  },
  {
   "cell_type": "markdown",
   "id": "aa13db27",
   "metadata": {},
   "source": [
    "Single stochastic simulation trajectories can be plotted as follows (with median highlighted):"
   ]
  },
  {
   "cell_type": "code",
   "execution_count": null,
   "id": "ea42e2c3",
   "metadata": {},
   "outputs": [],
   "source": [
    "trajectories_comp = sir_results.get_stacked_compartments()\n",
    "ax = plot_trajectories(trajectories_comp, columns=[\"I_total\", \"S_total\", \"R_total\"], title='SIR Model Simulation (Compartments, Trajectories)')"
   ]
  },
  {
   "cell_type": "code",
   "execution_count": null,
   "id": "9816e4d6",
   "metadata": {},
   "outputs": [],
   "source": []
  },
  {
   "cell_type": "code",
   "execution_count": null,
   "id": "7fbbeca8",
   "metadata": {},
   "outputs": [],
   "source": []
  }
 ],
 "metadata": {
  "kernelspec": {
   "display_name": "base",
   "language": "python",
   "name": "python3"
  },
  "language_info": {
   "codemirror_mode": {
    "name": "ipython",
    "version": 3
   },
   "file_extension": ".py",
   "mimetype": "text/x-python",
   "name": "python",
   "nbconvert_exporter": "python",
   "pygments_lexer": "ipython3",
   "version": "3.8.8"
  }
 },
 "nbformat": 4,
 "nbformat_minor": 5
}
