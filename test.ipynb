{
 "cells": [
  {
   "cell_type": "code",
   "execution_count": 1,
   "id": "231e04e9",
   "metadata": {},
   "outputs": [],
   "source": [
    "# Import the necessary components\n",
    "from epydemix import EpiModel\n",
    "from epydemix.visualization import plot_quantiles, plot_trajectories"
   ]
  },
  {
   "cell_type": "code",
   "execution_count": 2,
   "id": "61884b5d",
   "metadata": {},
   "outputs": [
    {
     "name": "stdout",
     "output_type": "stream",
     "text": [
      "EpiModel(name='SIR Model')\n",
      "Compartments: 3\n",
      "  S, I, R\n",
      "Transitions: 2\n",
      "  Transitions between compartments:\n",
      "    S -> I, params: (0.3, 'I') (kind: mediated)\n",
      "    I -> R, params: 0.1 (kind: spontaneous)\n",
      "Parameters: 0\n",
      "  No parameters defined\n",
      "Population: epydemix_population\n",
      "  Population size: 100000 individuals\n",
      "  Demographic groups: 1\n",
      "    0\n",
      "\n"
     ]
    }
   ],
   "source": [
    "# Defining a basic SIR model\n",
    "sir_model = EpiModel(\n",
    "    name='SIR Model',\n",
    "    compartments=['S', 'I', 'R'],  # Susceptible, Infected, Recovered\n",
    ")\n",
    "\n",
    "# Defining the transitions\n",
    "sir_model.add_transition(source='S', target='I', params=(0.3, \"I\"), kind='mediated')\n",
    "sir_model.add_transition(source='I', target='R', params=0.1, kind='spontaneous')\n",
    "\n",
    "print(sir_model)"
   ]
  },
  {
   "cell_type": "code",
   "execution_count": 3,
   "id": "590652c7",
   "metadata": {},
   "outputs": [],
   "source": [
    "def run(): \n",
    "    sir_results = sir_model.run_simulations(\n",
    "        start_date=\"2024-01-01\",\n",
    "        end_date=\"2024-04-10\")"
   ]
  },
  {
   "cell_type": "code",
   "execution_count": 4,
   "id": "4303a82a",
   "metadata": {},
   "outputs": [
    {
     "name": "stdout",
     "output_type": "stream",
     "text": [
      "1.05 s ± 17.9 ms per loop (mean ± std. dev. of 7 runs, 1 loop each)\n"
     ]
    }
   ],
   "source": [
    "%timeit run()"
   ]
  },
  {
   "cell_type": "code",
   "execution_count": null,
   "id": "23e00a71",
   "metadata": {},
   "outputs": [],
   "source": []
  }
 ],
 "metadata": {
  "kernelspec": {
   "display_name": "base",
   "language": "python",
   "name": "python3"
  },
  "language_info": {
   "codemirror_mode": {
    "name": "ipython",
    "version": 3
   },
   "file_extension": ".py",
   "mimetype": "text/x-python",
   "name": "python",
   "nbconvert_exporter": "python",
   "pygments_lexer": "ipython3",
   "version": "3.8.8"
  }
 },
 "nbformat": 4,
 "nbformat_minor": 5
}
